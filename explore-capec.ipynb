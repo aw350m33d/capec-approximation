{
 "cells": [
  {
   "cell_type": "code",
   "execution_count": null,
   "metadata": {},
   "outputs": [],
   "source": [
    "from stix2 import parse, MemoryStore, Filter\n",
    "\n",
    "store = MemoryStore()\n",
    "store.load_from_file(\"data/stix-capec.json\")"
   ]
  },
  {
   "cell_type": "code",
   "execution_count": null,
   "metadata": {},
   "outputs": [],
   "source": [
    "def remove_revoked_deprecated(stix_objects: list) -> list:\n",
    "    # Note we use .get() because the property may not be present in the JSON data. The default is \"\"\n",
    "    # if the property is not set.\n",
    "    return list(\n",
    "        filter(\n",
    "            lambda x: x.get(\"x_capec_status\", \"\") != \"Deprecated\", stix_objects\n",
    "        )\n",
    "    )"
   ]
  },
  {
   "cell_type": "code",
   "execution_count": null,
   "metadata": {},
   "outputs": [],
   "source": [
    "def get_objects_by_type(store: MemoryStore, stix_type: str, remove_deprecated=False) -> list:\n",
    "    objects = store.query([Filter(\"type\", \"=\", stix_type)])\n",
    "    if remove_deprecated:\n",
    "        objects = remove_revoked_deprecated(objects)\n",
    "    if not objects:\n",
    "        return []\n",
    "    return objects"
   ]
  },
  {
   "cell_type": "code",
   "execution_count": null,
   "metadata": {},
   "outputs": [],
   "source": [
    "def get_attack_related(store: MemoryStore, remove_deprecated=False):\n",
    "    objects = store.query([Filter(\"type\", \"=\", \"attack-pattern\"), Filter(\"external_references.source_name\", \"=\", \"ATTACK\")])\n",
    "    if remove_deprecated:\n",
    "        objects = remove_revoked_deprecated(objects)\n",
    "    if not objects:\n",
    "        return []\n",
    "    return objects\n"
   ]
  },
  {
   "cell_type": "code",
   "execution_count": null,
   "metadata": {},
   "outputs": [],
   "source": [
    "attack_patterns = get_attack_related(store)\n",
    "print(len(attack_patterns))\n",
    "all_patterns = {p.id: p for p in get_objects_by_type(store, \"attack-pattern\")}\n",
    "print(len(all_patterns))\n",
    "patterns = get_objects_by_type(store, \"attack-pattern\")\n",
    "all_patterns_ids = {}\n",
    "\n",
    "for p in get_objects_by_type(store, \"attack-pattern\"):\n",
    "    capec_id = [p.external_id for p in p.external_references if p.source_name == \"capec\"][0]\n",
    "    all_patterns_ids[capec_id] = p.id"
   ]
  },
  {
   "cell_type": "code",
   "execution_count": null,
   "metadata": {},
   "outputs": [],
   "source": [
    "print(len(all_patterns))"
   ]
  },
  {
   "cell_type": "code",
   "execution_count": null,
   "metadata": {},
   "outputs": [],
   "source": [
    "def get_id(cid: str):\n",
    "    return all_patterns_ids[cid]"
   ]
  },
  {
   "cell_type": "code",
   "execution_count": null,
   "metadata": {},
   "outputs": [],
   "source": [
    "import json\n",
    "\n",
    "attack_data = {}\n",
    "with open(\"build/attack-to-capec.json\", \"r\") as f:\n",
    "    attack_data = json.load(f)"
   ]
  },
  {
   "cell_type": "code",
   "execution_count": null,
   "metadata": {},
   "outputs": [],
   "source": [
    "mappings = {}\n",
    "for pattern in attack_patterns:\n",
    "    attack_ids = [p.external_id for p in pattern.external_references if p.source_name == \"ATTACK\"]\n",
    "    capec_id = [p.external_id for p in pattern.external_references if p.source_name == \"capec\"][0]\n",
    "    cwe_ids = [p.external_id for p in pattern.external_references if p.source_name == \"cwe\"]\n",
    "    \n",
    "    mappings[capec_id] = {'ATTACK': attack_ids, \"CWE\": cwe_ids, 'id': pattern.id}\n",
    "\n",
    "for capec_id in attack_data:\n",
    "    if capec_id not in mappings:\n",
    "        mappings[capec_id] = {'ATTACK': attack_data[capec_id], \"CWE\": []}\n",
    "    else:\n",
    "        mappings[capec_id]['ATTACK'].extend(attack_data[capec_id])\n",
    "\n",
    "mappings = {get_id(i): mappings[i] for i in mappings}\n",
    "print(len(mappings))"
   ]
  },
  {
   "cell_type": "code",
   "execution_count": null,
   "metadata": {},
   "outputs": [],
   "source": [
    "print(mappings)"
   ]
  },
  {
   "cell_type": "code",
   "execution_count": null,
   "metadata": {},
   "outputs": [],
   "source": [
    "print(all_patterns_ids['CAPEC-17'])\n",
    "all_patterns['attack-pattern--c4a0c765-e4ca-43c2-996e-08ce13ae8f80']"
   ]
  },
  {
   "cell_type": "code",
   "execution_count": null,
   "metadata": {},
   "outputs": [],
   "source": [
    "from mitreattack.stix20 import MitreAttackData\n",
    "\n",
    "mitre_attack_data = MitreAttackData(\"data/enterprise-attack.json\")"
   ]
  },
  {
   "cell_type": "code",
   "execution_count": null,
   "metadata": {},
   "outputs": [],
   "source": [
    "def ids_to_names(attack_data: MitreAttackData, attack_ids: list[str]) -> list:\n",
    "    return [f\"{attack_id}({attack_data.get_object_by_attack_id(attack_id, 'attack-pattern').name})\" for attack_id in attack_ids]"
   ]
  },
  {
   "cell_type": "code",
   "execution_count": null,
   "metadata": {},
   "outputs": [],
   "source": [
    "chains = []\n",
    "for p in mappings:\n",
    "    pattern = all_patterns[p]\n",
    "    prev_actions = pattern.get('x_capec_can_follow_refs', [])\n",
    "    next_actions = pattern.get('x_capec_can_precede_refs', [])\n",
    "    if pattern.id not in mappings:\n",
    "        continue\n",
    "    \n",
    "    for aid in mappings[pattern.id]['ATTACK']:\n",
    "        prev_aids = []\n",
    "        for a in prev_actions:\n",
    "            if a in mappings:\n",
    "                prev_aids.extend(mappings[a]['ATTACK'])\n",
    "                \n",
    "        next_aids = []\n",
    "        for a in next_actions:\n",
    "            if a in mappings:\n",
    "                next_aids.extend(mappings[a]['ATTACK'])\n",
    "        if len(prev_aids) != 0 or len(next_aids) != 0:\n",
    "            prev = ids_to_names(mitre_attack_data, prev_aids)\n",
    "            current = ids_to_names(mitre_attack_data, [aid])\n",
    "            nxt = ids_to_names(mitre_attack_data, next_aids)\n",
    "            chains.append({\n",
    "                \"prev\": prev,\n",
    "                \"current\": current,\n",
    "                \"next\": nxt\n",
    "            })\n"
   ]
  },
  {
   "cell_type": "code",
   "execution_count": null,
   "metadata": {},
   "outputs": [],
   "source": [
    "print(len(chains))\n",
    "with open(\"build/attack-triples.txt\", \"w\") as fp:\n",
    "    for e in chains:\n",
    "        for p in e['prev']:\n",
    "            \n",
    "            for n in e['next']:\n",
    "                if not p:\n",
    "                    fp.write(f\"None --> {e['current'][0]}\")\n",
    "                else:\n",
    "                    fp.write(f\"{p} --> {e['current'][0]}\")\n",
    "                if not n:\n",
    "                    fp.write(\" --> None \\n\")\n",
    "                else:\n",
    "                    fp.write(f\" --> {n}\\n\")"
   ]
  },
  {
   "cell_type": "code",
   "execution_count": null,
   "metadata": {},
   "outputs": [],
   "source": [
    "print(len(chains))\n",
    "with open(\"build/attack-pairs.txt\", \"w\") as fp:\n",
    "    for e in chains:\n",
    "        for p in e['prev']:\n",
    "            fp.write(f\"{p} --> {e['current'][0]}\\n\")\n",
    "        for n in e['next']:\n",
    "            fp.write(f\"{e['current'][0]} --> {n}\\n\")"
   ]
  },
  {
   "cell_type": "code",
   "execution_count": null,
   "metadata": {},
   "outputs": [],
   "source": []
  }
 ],
 "metadata": {
  "kernelspec": {
   "display_name": "capec-research",
   "language": "python",
   "name": "python3"
  },
  "language_info": {
   "codemirror_mode": {
    "name": "ipython",
    "version": 3
   },
   "file_extension": ".py",
   "mimetype": "text/x-python",
   "name": "python",
   "nbconvert_exporter": "python",
   "pygments_lexer": "ipython3",
   "version": "3.11.7"
  }
 },
 "nbformat": 4,
 "nbformat_minor": 2
}
