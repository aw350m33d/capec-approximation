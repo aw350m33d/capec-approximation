{
 "cells": [
  {
   "cell_type": "code",
   "execution_count": null,
   "metadata": {},
   "outputs": [],
   "source": [
    "from stix2 import MemoryStore, Filter\n",
    "\n",
    "store = MemoryStore()\n",
    "store.load_from_file(\"data/enterprise-attack.json\")"
   ]
  },
  {
   "cell_type": "code",
   "execution_count": null,
   "metadata": {},
   "outputs": [],
   "source": [
    "def remove_revoked_deprecated(stix_objects: list) -> list:\n",
    "    # Note we use .get() because the property may not be present in the JSON data. The default is \"\"\n",
    "    # if the property is not set.\n",
    "    return list(\n",
    "            filter(\n",
    "                lambda x: x.get(\"x_mitre_deprecated\", False) is False and x.get(\"revoked\", False) is False, stix_objects\n",
    "            )\n",
    "        )"
   ]
  },
  {
   "cell_type": "code",
   "execution_count": null,
   "metadata": {},
   "outputs": [],
   "source": [
    "def get_capec_related(store: MemoryStore, remove_deprecated=False):\n",
    "    objects = store.query([Filter(\"type\", \"=\", \"attack-pattern\"), Filter(\"external_references.source_name\", \"=\", \"capec\")])\n",
    "    if remove_deprecated:\n",
    "        objects = remove_revoked_deprecated(objects)\n",
    "    if not objects:\n",
    "        return []\n",
    "    return objects\n"
   ]
  },
  {
   "cell_type": "code",
   "execution_count": null,
   "metadata": {},
   "outputs": [],
   "source": [
    "attack_patterns = get_capec_related(store)\n",
    "print(len(attack_patterns))"
   ]
  },
  {
   "cell_type": "code",
   "execution_count": null,
   "metadata": {},
   "outputs": [],
   "source": [
    "dump = {}\n",
    "for pattern in attack_patterns:\n",
    "    attack_ids = [p.external_id for p in pattern.external_references if p.source_name == \"mitre-attack\"]\n",
    "    capec_id = [p.external_id for p in pattern.external_references if p.source_name == \"capec\"][0]\n",
    "    dump[capec_id] = attack_ids\n",
    "    print(f\"{pattern.name} -> {capec_id}\")\n"
   ]
  },
  {
   "cell_type": "code",
   "execution_count": null,
   "metadata": {},
   "outputs": [],
   "source": [
    "import json\n",
    "\n",
    "with open(\"build/attack-to-capec.json\", \"w\") as f:\n",
    "    json.dump(dump, f)\n"
   ]
  },
  {
   "cell_type": "code",
   "execution_count": null,
   "metadata": {},
   "outputs": [],
   "source": []
  }
 ],
 "metadata": {
  "kernelspec": {
   "display_name": "capec-research",
   "language": "python",
   "name": "python3"
  },
  "language_info": {
   "codemirror_mode": {
    "name": "ipython",
    "version": 3
   },
   "file_extension": ".py",
   "mimetype": "text/x-python",
   "name": "python",
   "nbconvert_exporter": "python",
   "pygments_lexer": "ipython3",
   "version": "3.11.7"
  }
 },
 "nbformat": 4,
 "nbformat_minor": 2
}
